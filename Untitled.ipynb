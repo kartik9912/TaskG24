{
 "cells": [
  {
   "cell_type": "code",
   "execution_count": 2,
   "id": "2978260a",
   "metadata": {},
   "outputs": [
    {
     "ename": "SyntaxError",
     "evalue": "invalid decimal literal (3535668778.py, line 12)",
     "output_type": "error",
     "traceback": [
      "\u001b[1;36m  Cell \u001b[1;32mIn[2], line 12\u001b[1;36m\u001b[0m\n\u001b[1;33m    circle(150- j*6,90）\u001b[0m\n\u001b[1;37m                     ^\u001b[0m\n\u001b[1;31mSyntaxError\u001b[0m\u001b[1;31m:\u001b[0m invalid decimal literal\n"
     ]
    }
   ],
   "source": [
    "v"
   ]
  },
  {
   "cell_type": "code",
   "execution_count": 3,
   "id": "c403cf6f",
   "metadata": {},
   "outputs": [
    {
     "ename": "IndentationError",
     "evalue": "expected an indented block after 'for' statement on line 33 (3739148379.py, line 36)",
     "output_type": "error",
     "traceback": [
      "\u001b[1;36m  Cell \u001b[1;32mIn[3], line 36\u001b[1;36m\u001b[0m\n\u001b[1;33m    pen.color(col[i])\u001b[0m\n\u001b[1;37m    ^\u001b[0m\n\u001b[1;31mIndentationError\u001b[0m\u001b[1;31m:\u001b[0m expected an indented block after 'for' statement on line 33\n"
     ]
    }
   ],
   "source": [
    "# import turtle package \n",
    "import turtle \n",
    "\n",
    "# screen object \n",
    "sc = turtle.Screen() \n",
    "\n",
    "# turtle object \n",
    "pen = turtle.Turtle() \n",
    "\n",
    "\n",
    "# Driver Code \n",
    "# colors \n",
    "col = ['violet', 'indigo', 'blue', 'green', \n",
    "\t'yellow', 'orange', 'red'] \n",
    "\n",
    "# screen size \n",
    "sc.setup(500,500) \n",
    "\n",
    "# screen color \n",
    "sc.bgcolor('black') \n",
    "\n",
    "# turtle size \n",
    "pen.pensize(4) \n",
    "\n",
    "# turtle object \n",
    "pen.speed(20)\t \n",
    "\n",
    "# integer variable \n",
    "# for accessing colors \n",
    "i = 0\n",
    "\n",
    "# loop to draw 30 circles \n",
    "for angle in range(0, 360, 12): \n",
    "\t\n",
    "# color of circle \n",
    "pen.color(col[i]) \n",
    "\t\n",
    "if i == 6:\t\t \n",
    "\ti = 0\n",
    "\t\n",
    "else: \n",
    "\ti += 1\n",
    "\t\n",
    "# Set the orientation of \n",
    "# the turtle to angle \n",
    "pen.seth(angle) \n",
    "\t\n",
    "# circle of radius 80 \n",
    "pen.circle(80) \n",
    "\t\n",
    "# hide the turtle \n",
    "pen.ht()\n"
   ]
  },
  {
   "cell_type": "code",
   "execution_count": 12,
   "id": "e4fe7fcb",
   "metadata": {},
   "outputs": [],
   "source": [
    "import turtle\n",
    "\n",
    "\n",
    "tur = turtle.Turtle()\n",
    "tur.speed(20)\n",
    "tur.color(\"black\", \"orange\")\n",
    "tur.begin_fill()\n",
    "\n",
    "for i in range(50):\n",
    "\ttur.forward(300)\n",
    "\ttur.left(170)\n",
    "\n",
    "tur.end_fill()\n",
    "turtle.done()\n"
   ]
  },
  {
   "cell_type": "code",
   "execution_count": 19,
   "id": "b1167efb",
   "metadata": {},
   "outputs": [
    {
     "ename": "SyntaxError",
     "evalue": "invalid non-printable character U+00A0 (3947840172.py, line 17)",
     "output_type": "error",
     "traceback": [
      "\u001b[1;36m  Cell \u001b[1;32mIn[19], line 17\u001b[1;36m\u001b[0m\n\u001b[1;33m    circle (40, 24)\u001b[0m\n\u001b[1;37m               ^\u001b[0m\n\u001b[1;31mSyntaxError\u001b[0m\u001b[1;31m:\u001b[0m invalid non-printable character U+00A0\n"
     ]
    }
   ],
   "source": [
    "from turtle import * \n",
    "import colorsys\n",
    "\n",
    "speed (0)\n",
    "bcolor (\"black\" )\n",
    "h = 0\n",
    "for i in range(16):\n",
    "    for j in range (18):\n",
    "        c = colorsys. hsv_to_rgb(h, 1, 1)\n",
    "        color(c)\n",
    "        h += 0.005 \n",
    "        rt (90)\n",
    "        circle(150-j*6,90)\n",
    "        lt (90)\n",
    "        circle(150 - j * 6, 90)\n",
    "        rt (180)\n",
    "    circle (40, 24)\n",
    "done ()"
   ]
  },
  {
   "cell_type": "code",
   "execution_count": null,
   "id": "c3af55ba",
   "metadata": {},
   "outputs": [],
   "source": []
  }
 ],
 "metadata": {
  "kernelspec": {
   "display_name": "Python 3 (ipykernel)",
   "language": "python",
   "name": "python3"
  },
  "language_info": {
   "codemirror_mode": {
    "name": "ipython",
    "version": 3
   },
   "file_extension": ".py",
   "mimetype": "text/x-python",
   "name": "python",
   "nbconvert_exporter": "python",
   "pygments_lexer": "ipython3",
   "version": "3.11.4"
  }
 },
 "nbformat": 4,
 "nbformat_minor": 5
}
